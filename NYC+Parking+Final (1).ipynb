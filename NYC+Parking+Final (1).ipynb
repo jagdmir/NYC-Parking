{
 "cells": [
  {
   "cell_type": "markdown",
   "metadata": {},
   "source": [
    "# Group Case Study - NYC Parking\n",
    "# Authors:\n",
    "    1. Jagdish Mirchandani\n",
    "    2. Preeti Sharma"
   ]
  },
  {
   "cell_type": "code",
   "execution_count": 54,
   "metadata": {},
   "outputs": [],
   "source": [
    "# import numpy and pandas libraries\n",
    "import numpy as np\n",
    "import pandas as pd"
   ]
  },
  {
   "cell_type": "code",
   "execution_count": 55,
   "metadata": {},
   "outputs": [],
   "source": [
    "# create a spark session\n",
    "from pyspark.sql import SparkSession\n",
    "spark = SparkSession.builder.appName(\"Group Case Study - NYC Parking\").getOrCreate()"
   ]
  },
  {
   "cell_type": "code",
   "execution_count": 56,
   "metadata": {},
   "outputs": [
    {
     "data": {
      "text/html": [
       "\n",
       "            <div>\n",
       "                <p><b>SparkSession - in-memory</b></p>\n",
       "                \n",
       "        <div>\n",
       "            <p><b>SparkContext</b></p>\n",
       "\n",
       "            <p><a href=\"http://ip-30-0-31-76.ec2.internal:4048\">Spark UI</a></p>\n",
       "\n",
       "            <dl>\n",
       "              <dt>Version</dt>\n",
       "                <dd><code>v2.4.0</code></dd>\n",
       "              <dt>Master</dt>\n",
       "                <dd><code>yarn</code></dd>\n",
       "              <dt>AppName</dt>\n",
       "                <dd><code>Group Case Study - NYC Parking</code></dd>\n",
       "            </dl>\n",
       "        </div>\n",
       "        \n",
       "            </div>\n",
       "        "
      ],
      "text/plain": [
       "<pyspark.sql.session.SparkSession at 0x7fb2616f6630>"
      ]
     },
     "execution_count": 56,
     "metadata": {},
     "output_type": "execute_result"
    }
   ],
   "source": [
    "# lets check the details of the spark version\n",
    "spark"
   ]
  },
  {
   "cell_type": "code",
   "execution_count": 57,
   "metadata": {},
   "outputs": [
    {
     "data": {
      "text/plain": [
       "DataFrame[Summons Number: bigint, Plate ID: string, Registration State: string, Issue Date: timestamp, Violation Code: int, Vehicle Body Type: string, Vehicle Make: string, Violation Precinct: int, Issuer Precinct: int, Violation Time: string]"
      ]
     },
     "execution_count": 57,
     "metadata": {},
     "output_type": "execute_result"
    }
   ],
   "source": [
    "# data is store in hdfs, we need to load it to spark environment for further processing\n",
    "parking = spark.read.format(\"csv\")\\\n",
    "  .option(\"header\", \"true\")\\\n",
    "  .option(\"inferSchema\", \"true\")\\\n",
    "  .load(\"/common_folder/nyc_parking/Parking_Violations_Issued_-_Fiscal_Year_2017.csv\")\n",
    "\n",
    "# caching the dataset for improve performance\n",
    "parking.cache()"
   ]
  },
  {
   "cell_type": "code",
   "execution_count": 58,
   "metadata": {},
   "outputs": [
    {
     "data": {
      "text/plain": [
       "[Row(Summons Number=5092469481, Plate ID='GZH7067', Registration State='NY', Issue Date=datetime.datetime(2016, 7, 10, 0, 0), Violation Code=7, Vehicle Body Type='SUBN', Vehicle Make='TOYOT', Violation Precinct=0, Issuer Precinct=0, Violation Time='0143A'),\n",
       " Row(Summons Number=5092451658, Plate ID='GZH7067', Registration State='NY', Issue Date=datetime.datetime(2016, 7, 8, 0, 0), Violation Code=7, Vehicle Body Type='SUBN', Vehicle Make='TOYOT', Violation Precinct=0, Issuer Precinct=0, Violation Time='0400P'),\n",
       " Row(Summons Number=4006265037, Plate ID='FZX9232', Registration State='NY', Issue Date=datetime.datetime(2016, 8, 23, 0, 0), Violation Code=5, Vehicle Body Type='SUBN', Vehicle Make='FORD', Violation Precinct=0, Issuer Precinct=0, Violation Time='0233P'),\n",
       " Row(Summons Number=8478629828, Plate ID='66623ME', Registration State='NY', Issue Date=datetime.datetime(2017, 6, 14, 0, 0), Violation Code=47, Vehicle Body Type='REFG', Vehicle Make='MITSU', Violation Precinct=14, Issuer Precinct=14, Violation Time='1120A'),\n",
       " Row(Summons Number=7868300310, Plate ID='37033JV', Registration State='NY', Issue Date=datetime.datetime(2016, 11, 21, 0, 0), Violation Code=69, Vehicle Body Type='DELV', Vehicle Make='INTER', Violation Precinct=13, Issuer Precinct=13, Violation Time='0555P')]"
      ]
     },
     "execution_count": 58,
     "metadata": {},
     "output_type": "execute_result"
    }
   ],
   "source": [
    "# verify if the dataset has loaded correctly\n",
    "parking.take(5)"
   ]
  },
  {
   "cell_type": "code",
   "execution_count": 59,
   "metadata": {},
   "outputs": [
    {
     "name": "stdout",
     "output_type": "stream",
     "text": [
      "root\n",
      " |-- Summons Number: long (nullable = true)\n",
      " |-- Plate ID: string (nullable = true)\n",
      " |-- Registration State: string (nullable = true)\n",
      " |-- Issue Date: timestamp (nullable = true)\n",
      " |-- Violation Code: integer (nullable = true)\n",
      " |-- Vehicle Body Type: string (nullable = true)\n",
      " |-- Vehicle Make: string (nullable = true)\n",
      " |-- Violation Precinct: integer (nullable = true)\n",
      " |-- Issuer Precinct: integer (nullable = true)\n",
      " |-- Violation Time: string (nullable = true)\n",
      "\n"
     ]
    }
   ],
   "source": [
    "# print the schema of the dataset loaded to SPARK\n",
    "parking.printSchema()"
   ]
  },
  {
   "cell_type": "code",
   "execution_count": 60,
   "metadata": {},
   "outputs": [
    {
     "name": "stdout",
     "output_type": "stream",
     "text": [
      "************************* Describe Summons Number ******************************\n",
      "+-------+--------------------+\n",
      "|summary|      Summons Number|\n",
      "+-------+--------------------+\n",
      "|  count|            10803028|\n",
      "|   mean| 6.817447029065788E9|\n",
      "| stddev|2.3202339623282275E9|\n",
      "|    min|          1002884949|\n",
      "|    max|          8585600044|\n",
      "+-------+--------------------+\n",
      "\n",
      "************************* Describe Plate ID ******************************\n",
      "+-------+--------+\n",
      "|summary|Plate ID|\n",
      "+-------+--------+\n",
      "|  count|10803028|\n",
      "|   mean|Infinity|\n",
      "| stddev|     NaN|\n",
      "|    min|   #1MOM|\n",
      "|    max|       ~|\n",
      "+-------+--------+\n",
      "\n",
      "************************* Describe Registration State ******************************\n",
      "+-------+------------------+\n",
      "|summary|Registration State|\n",
      "+-------+------------------+\n",
      "|  count|          10803028|\n",
      "|   mean|              99.0|\n",
      "| stddev|               0.0|\n",
      "|    min|                99|\n",
      "|    max|                WY|\n",
      "+-------+------------------+\n",
      "\n",
      "************************* Describe Issue Date ******************************\n",
      "+-------+\n",
      "|summary|\n",
      "+-------+\n",
      "|  count|\n",
      "|   mean|\n",
      "| stddev|\n",
      "|    min|\n",
      "|    max|\n",
      "+-------+\n",
      "\n",
      "************************* Describe Violation Code ******************************\n",
      "+-------+------------------+\n",
      "|summary|    Violation Code|\n",
      "+-------+------------------+\n",
      "|  count|          10803028|\n",
      "|   mean|34.599430455979565|\n",
      "| stddev|19.359868716323483|\n",
      "|    min|                 0|\n",
      "|    max|                99|\n",
      "+-------+------------------+\n",
      "\n",
      "************************* Describe Vehicle Body Type ******************************\n",
      "+-------+------------------+\n",
      "|summary| Vehicle Body Type|\n",
      "+-------+------------------+\n",
      "|  count|          10803028|\n",
      "|   mean|3.9258887134586864|\n",
      "| stddev|0.5013415469252528|\n",
      "|    min|                00|\n",
      "|    max|               nan|\n",
      "+-------+------------------+\n",
      "\n",
      "************************* Describe Vehicle Make ******************************\n",
      "+-------+------------------+\n",
      "|summary|      Vehicle Make|\n",
      "+-------+------------------+\n",
      "|  count|          10803028|\n",
      "|   mean| 6519.974025974026|\n",
      "| stddev|18091.257389147086|\n",
      "|    min|             ,FREI|\n",
      "|    max|               nan|\n",
      "+-------+------------------+\n",
      "\n",
      "************************* Describe Violation Precinct ******************************\n",
      "+-------+------------------+\n",
      "|summary|Violation Precinct|\n",
      "+-------+------------------+\n",
      "|  count|          10803028|\n",
      "|   mean| 45.01216260848347|\n",
      "| stddev|  40.5525602684357|\n",
      "|    min|                 0|\n",
      "|    max|               933|\n",
      "+-------+------------------+\n",
      "\n",
      "************************* Describe Issuer Precinct ******************************\n",
      "+-------+-----------------+\n",
      "|summary|  Issuer Precinct|\n",
      "+-------+-----------------+\n",
      "|  count|         10803028|\n",
      "|   mean|46.82931211508477|\n",
      "| stddev|62.66703577269572|\n",
      "|    min|                0|\n",
      "|    max|              997|\n",
      "+-------+-----------------+\n",
      "\n",
      "************************* Describe Violation Time ******************************\n",
      "+-------+-----------------+\n",
      "|summary|   Violation Time|\n",
      "+-------+-----------------+\n",
      "|  count|         10803028|\n",
      "|   mean|909.2857142857143|\n",
      "| stddev|791.8453853409226|\n",
      "|    min|            .240P|\n",
      "|    max|              nan|\n",
      "+-------+-----------------+\n",
      "\n"
     ]
    }
   ],
   "source": [
    "# lets check some important statistics of the given dataset\n",
    "for i in parking.columns:\n",
    "    print(\"************************* Describe\",i,\"******************************\")\n",
    "    parking.describe(i).show()"
   ]
  },
  {
   "cell_type": "markdown",
   "metadata": {},
   "source": [
    "# Data Visualization"
   ]
  },
  {
   "cell_type": "code",
   "execution_count": 61,
   "metadata": {},
   "outputs": [],
   "source": [
    "# lets create a temporary view of the dataset to proceed with further Analysis.\n",
    "parking.createOrReplaceTempView(\"parking_table\")"
   ]
  },
  {
   "cell_type": "code",
   "execution_count": 62,
   "metadata": {},
   "outputs": [
    {
     "data": {
      "image/png": "[encoded data removed]",
      "text/plain": [
       "<Figure size 1152x1152 with 1 Axes>"
      ]
     },
     "metadata": {},
     "output_type": "display_data"
    }
   ],
   "source": [
    "# Lets visualize ticket distribution w.r.t Registration State\n",
    "ticket_dist = spark.sql(\"SELECT `Registration State`, count(*) as `Frequency` FROM parking_table GROUP BY `Registration State`\")\n",
    "plot = ticket_dist.toPandas().set_index('Registration State').plot.barh(figsize=(16, 16))\n",
    "\n",
    "# Observations:\n",
    "# 1. Maximum number of Tickets are from NY, which is far more than any other state\n",
    "# 2. There is entry of \"99\" which is not a valid state"
   ]
  },
  {
   "cell_type": "code",
   "execution_count": 63,
   "metadata": {},
   "outputs": [
    {
     "data": {
      "image/png": "[encoded data removed]",
      "text/plain": [
       "<Figure size 1152x2304 with 1 Axes>"
      ]
     },
     "metadata": {},
     "output_type": "display_data"
    }
   ],
   "source": [
    "# Lets visualize ticket distribution w.r.t Violation Code\n",
    "ticket_dist = spark.sql(\"SELECT `Violation Code`, count(*) as `Frequency` FROM parking_table GROUP BY `Violation Code`\")\n",
    "plot = ticket_dist.toPandas().set_index('Violation Code').plot.barh(figsize=(16, 32))\n",
    "\n",
    "# Observations:\n",
    "#  Max. number of tickets are with violation code 21, followed by 36 and 38"
   ]
  },
  {
   "cell_type": "markdown",
   "metadata": {},
   "source": [
    "# Data Cleaning"
   ]
  },
  {
   "cell_type": "code",
   "execution_count": 64,
   "metadata": {},
   "outputs": [],
   "source": [
    "# lets drop the null values and create a clean dataset\n",
    "parking_clean = parking.na.drop()"
   ]
  },
  {
   "cell_type": "code",
   "execution_count": 65,
   "metadata": {},
   "outputs": [
    {
     "name": "stdout",
     "output_type": "stream",
     "text": [
      "Lets compare Null values in column: Summons Number\n",
      "Values from the original dataset:\n",
      "+------------------------------+\n",
      "|count(DISTINCT Summons Number)|\n",
      "+------------------------------+\n",
      "|                      10803028|\n",
      "+------------------------------+\n",
      "\n",
      "Values from the cleaned dataset:\n",
      "+------------------------------+\n",
      "|count(DISTINCT Summons Number)|\n",
      "+------------------------------+\n",
      "|                      10803028|\n",
      "+------------------------------+\n",
      "\n",
      "*****************************************************************************\n",
      "Lets compare Null values in column: Plate ID\n",
      "Values from the original dataset:\n",
      "+------------------------+\n",
      "|count(DISTINCT Plate ID)|\n",
      "+------------------------+\n",
      "|                 3059046|\n",
      "+------------------------+\n",
      "\n",
      "Values from the cleaned dataset:\n",
      "+------------------------+\n",
      "|count(DISTINCT Plate ID)|\n",
      "+------------------------+\n",
      "|                 3059046|\n",
      "+------------------------+\n",
      "\n",
      "*****************************************************************************\n",
      "Lets compare Null values in column: Registration State\n",
      "Values from the original dataset:\n",
      "+----------------------------------+\n",
      "|count(DISTINCT Registration State)|\n",
      "+----------------------------------+\n",
      "|                                67|\n",
      "+----------------------------------+\n",
      "\n",
      "Values from the cleaned dataset:\n",
      "+----------------------------------+\n",
      "|count(DISTINCT Registration State)|\n",
      "+----------------------------------+\n",
      "|                                67|\n",
      "+----------------------------------+\n",
      "\n",
      "*****************************************************************************\n",
      "Lets compare Null values in column: Issue Date\n",
      "Values from the original dataset:\n",
      "+--------------------------+\n",
      "|count(DISTINCT Issue Date)|\n",
      "+--------------------------+\n",
      "|                      2063|\n",
      "+--------------------------+\n",
      "\n",
      "Values from the cleaned dataset:\n",
      "+--------------------------+\n",
      "|count(DISTINCT Issue Date)|\n",
      "+--------------------------+\n",
      "|                      2063|\n",
      "+--------------------------+\n",
      "\n",
      "*****************************************************************************\n",
      "Lets compare Null values in column: Violation Code\n",
      "Values from the original dataset:\n",
      "+------------------------------+\n",
      "|count(DISTINCT Violation Code)|\n",
      "+------------------------------+\n",
      "|                           100|\n",
      "+------------------------------+\n",
      "\n",
      "Values from the cleaned dataset:\n",
      "+------------------------------+\n",
      "|count(DISTINCT Violation Code)|\n",
      "+------------------------------+\n",
      "|                           100|\n",
      "+------------------------------+\n",
      "\n",
      "*****************************************************************************\n",
      "Lets compare Null values in column: Vehicle Body Type\n",
      "Values from the original dataset:\n",
      "+---------------------------------+\n",
      "|count(DISTINCT Vehicle Body Type)|\n",
      "+---------------------------------+\n",
      "|                             1848|\n",
      "+---------------------------------+\n",
      "\n",
      "Values from the cleaned dataset:\n",
      "+---------------------------------+\n",
      "|count(DISTINCT Vehicle Body Type)|\n",
      "+---------------------------------+\n",
      "|                             1848|\n",
      "+---------------------------------+\n",
      "\n",
      "*****************************************************************************\n",
      "Lets compare Null values in column: Vehicle Make\n",
      "Values from the original dataset:\n",
      "+----------------------------+\n",
      "|count(DISTINCT Vehicle Make)|\n",
      "+----------------------------+\n",
      "|                        5703|\n",
      "+----------------------------+\n",
      "\n",
      "Values from the cleaned dataset:\n",
      "+----------------------------+\n",
      "|count(DISTINCT Vehicle Make)|\n",
      "+----------------------------+\n",
      "|                        5703|\n",
      "+----------------------------+\n",
      "\n",
      "*****************************************************************************\n",
      "Lets compare Null values in column: Violation Precinct\n",
      "Values from the original dataset:\n",
      "+----------------------------------+\n",
      "|count(DISTINCT Violation Precinct)|\n",
      "+----------------------------------+\n",
      "|                               213|\n",
      "+----------------------------------+\n",
      "\n",
      "Values from the cleaned dataset:\n",
      "+----------------------------------+\n",
      "|count(DISTINCT Violation Precinct)|\n",
      "+----------------------------------+\n",
      "|                               213|\n",
      "+----------------------------------+\n",
      "\n",
      "*****************************************************************************\n",
      "Lets compare Null values in column: Issuer Precinct\n",
      "Values from the original dataset:\n",
      "+-------------------------------+\n",
      "|count(DISTINCT Issuer Precinct)|\n",
      "+-------------------------------+\n",
      "|                            655|\n",
      "+-------------------------------+\n",
      "\n",
      "Values from the cleaned dataset:\n",
      "+-------------------------------+\n",
      "|count(DISTINCT Issuer Precinct)|\n",
      "+-------------------------------+\n",
      "|                            655|\n",
      "+-------------------------------+\n",
      "\n",
      "*****************************************************************************\n",
      "Lets compare Null values in column: Violation Time\n",
      "Values from the original dataset:\n",
      "+------------------------------+\n",
      "|count(DISTINCT Violation Time)|\n",
      "+------------------------------+\n",
      "|                          1744|\n",
      "+------------------------------+\n",
      "\n",
      "Values from the cleaned dataset:\n",
      "+------------------------------+\n",
      "|count(DISTINCT Violation Time)|\n",
      "+------------------------------+\n",
      "|                          1744|\n",
      "+------------------------------+\n",
      "\n",
      "*****************************************************************************\n"
     ]
    }
   ],
   "source": [
    "from pyspark.sql.functions import count\n",
    "from pyspark.sql.functions import countDistinct\n",
    "\n",
    "# we will compare the cleaned dataset against the original ones and see if there are any null values\n",
    "for cols in parking.columns:\n",
    "    print(\"Lets compare Null values in column:\",cols)\n",
    "    print(\"Values from the original dataset:\")\n",
    "    parking.select(countDistinct(cols)).show()\n",
    "    print(\"Values from the cleaned dataset:\")\n",
    "    parking_clean.select(countDistinct(cols)).show()\n",
    "    print(\"*****************************************************************************\")"
   ]
  },
  {
   "cell_type": "code",
   "execution_count": 66,
   "metadata": {},
   "outputs": [],
   "source": [
    "# Observation: count of distinct values for all the columns are equal before and after dropping the null values, which means \n",
    "# there are no null values in the dataset"
   ]
  },
  {
   "cell_type": "code",
   "execution_count": 67,
   "metadata": {},
   "outputs": [],
   "source": [
    "# lets drop duplicates\n",
    "parking = parking.dropDuplicates()\n",
    "\n",
    "# lets re-register the table\n",
    "parking.createOrReplaceTempView(\"parking_table\")"
   ]
  },
  {
   "cell_type": "markdown",
   "metadata": {},
   "source": [
    "# Examine the Data"
   ]
  },
  {
   "cell_type": "code",
   "execution_count": 68,
   "metadata": {},
   "outputs": [
    {
     "name": "stdout",
     "output_type": "stream",
     "text": [
      "+------------------------------+--------------------+\n",
      "|year(CAST(Issue Date AS DATE))|Tolal Tickets - 2017|\n",
      "+------------------------------+--------------------+\n",
      "|                          2017|             5431918|\n",
      "+------------------------------+--------------------+\n",
      "\n"
     ]
    }
   ],
   "source": [
    "# Q1. Find the total number of tickets for the year.\n",
    "\n",
    "# Total number of tickets for the year 2017\n",
    "spark.sql(\"\"\"SELECT Year(`Issue Date`), count(*) as `Tolal Tickets - 2017` FROM parking_table where Year(`Issue Date`) = 2017\n",
    "GROUP BY Year(`Issue Date`)\"\"\").show()"
   ]
  },
  {
   "cell_type": "code",
   "execution_count": 69,
   "metadata": {},
   "outputs": [
    {
     "name": "stdout",
     "output_type": "stream",
     "text": [
      "+------------+\n",
      "|States Count|\n",
      "+------------+\n",
      "|          67|\n",
      "+------------+\n",
      "\n",
      "Following is the list of unique States from where the Cars came for parking::\n",
      "+------------------+\n",
      "|Registration State|\n",
      "+------------------+\n",
      "|                99|\n",
      "|                AB|\n",
      "|                AK|\n",
      "|                AL|\n",
      "|                AR|\n",
      "|                AZ|\n",
      "|                BC|\n",
      "|                CA|\n",
      "|                CO|\n",
      "|                CT|\n",
      "|                DC|\n",
      "|                DE|\n",
      "|                DP|\n",
      "|                FL|\n",
      "|                FO|\n",
      "|                GA|\n",
      "|                GV|\n",
      "|                HI|\n",
      "|                IA|\n",
      "|                ID|\n",
      "+------------------+\n",
      "only showing top 20 rows\n",
      "\n",
      "Following is the count of the cars came for parking from each states\n",
      "+------------------+------------+\n",
      "|Registration State|States Count|\n",
      "+------------------+------------+\n",
      "|                NY|     8481061|\n",
      "|                NJ|      925965|\n",
      "|                PA|      285419|\n",
      "|                FL|      144556|\n",
      "|                CT|      141088|\n",
      "|                MA|       85547|\n",
      "|                IN|       80749|\n",
      "|                VA|       72626|\n",
      "|                MD|       61800|\n",
      "|                NC|       55806|\n",
      "|                IL|       37329|\n",
      "|                GA|       36852|\n",
      "|                99|       36625|\n",
      "|                TX|       36516|\n",
      "|                AZ|       26426|\n",
      "|                OH|       25302|\n",
      "|                CA|       24260|\n",
      "|                SC|       21836|\n",
      "|                ME|       21574|\n",
      "|                MN|       18227|\n",
      "+------------------+------------+\n",
      "only showing top 20 rows\n",
      "\n"
     ]
    }
   ],
   "source": [
    "# Q2. Find out the number of unique states from where the cars that got parking tickets came.\n",
    "\n",
    "from pyspark.sql.functions import col, regexp_replace, udf, date_format\n",
    "\n",
    "# no. of unique states\n",
    "spark.sql(\"SELECT count(DISTINCT `Registration State`) as `States Count` FROM parking_table\").show()\n",
    "# there are 67 unique states\n",
    "\n",
    "print(\"Following is the list of unique States from where the Cars came for parking::\")\n",
    "spark.sql(\"SELECT DISTINCT(`Registration State`) FROM parking_table\").sort('Registration State').show()\n",
    "# there seems to be an invalid entry here, 99, lets replace it with the state with maximum entries\n",
    "\n",
    "print(\"Following is the count of the cars came for parking from each states\")\n",
    "ticket_distribution = spark.sql(\"\"\"SELECT `Registration State`, count(*) as `States Count` FROM parking_table GROUP BY `Registration State`\"\"\").sort('States Count',ascending = False).show()\n",
    "#  we can see NY state has maximum entries, we will replace 99 by NY"
   ]
  },
  {
   "cell_type": "code",
   "execution_count": 70,
   "metadata": {},
   "outputs": [
    {
     "name": "stdout",
     "output_type": "stream",
     "text": [
      "Following is the updated list of Unique States from where the Cars came for parking::\n",
      "+------------------+-----------+\n",
      "|Registration State|State Count|\n",
      "+------------------+-----------+\n",
      "|                AB|        218|\n",
      "|                AK|        754|\n",
      "|                AL|       6891|\n",
      "|                AR|       2621|\n",
      "|                AZ|      26426|\n",
      "|                BC|        127|\n",
      "|                CA|      24260|\n",
      "|                CO|       4093|\n",
      "|                CT|     141088|\n",
      "|                DC|       4250|\n",
      "|                DE|      16325|\n",
      "|                DP|       3192|\n",
      "|                FL|     144556|\n",
      "|                FO|         12|\n",
      "|                GA|      36852|\n",
      "|                GV|        704|\n",
      "|                HI|        408|\n",
      "|                IA|       4186|\n",
      "|                ID|       2920|\n",
      "|                IL|      37329|\n",
      "+------------------+-----------+\n",
      "only showing top 20 rows\n",
      "\n",
      "+------------+\n",
      "|States Count|\n",
      "+------------+\n",
      "|          66|\n",
      "+------------+\n",
      "\n"
     ]
    }
   ],
   "source": [
    "# Q2. There is a numeric entry '99' in the column, which should be corrected. \n",
    "# Replace it with the state having the maximum entries. Provide the number of unique states again.\n",
    "\n",
    "# Since state of NY had maximum entries, we will replace 99 by NY\n",
    "parking = parking.withColumn('Registration State', regexp_replace('Registration State', '99', 'NY'))\n",
    "\n",
    "# update the table view with the clean dataset\n",
    "parking.createOrReplaceTempView(\"parking_table\")\n",
    "\n",
    "print(\"Following is the updated list of Unique States from where the Cars came for parking::\")\n",
    "ticket_distribution = spark.sql(\"\"\"SELECT `Registration State`, count(*) as `State Count` FROM parking_table GROUP BY `Registration State`\"\"\").sort('Registration State').show()\n",
    "\n",
    "# no. of unique states after fixing the invalid entry of 99\n",
    "spark.sql(\"SELECT count(DISTINCT `Registration State`) as `States Count` FROM parking_table\").show()\n",
    "# So, we have 66 unique states after replacing the invalid entry with NY"
   ]
  },
  {
   "cell_type": "markdown",
   "metadata": {},
   "source": [
    "# Aggregation tasks"
   ]
  },
  {
   "cell_type": "code",
   "execution_count": 71,
   "metadata": {},
   "outputs": [
    {
     "name": "stdout",
     "output_type": "stream",
     "text": [
      "+--------------+---------+\n",
      "|Violation Code|Frequency|\n",
      "+--------------+---------+\n",
      "|            21|  1528588|\n",
      "|            36|  1400614|\n",
      "|            38|  1062304|\n",
      "|            14|   893498|\n",
      "|            20|   618593|\n",
      "+--------------+---------+\n",
      "\n"
     ]
    }
   ],
   "source": [
    "# Q1. How often does each violation code occur? Display the frequency of the top five violation codes\n",
    "\n",
    "# Solution: top 5 violation codes are : 21,36,38,14 and 20\n",
    "spark.sql(\"SELECT `Violation Code`, count(*) as `Frequency` \\\n",
    "    FROM parking_table \\\n",
    "    GROUP BY `Violation Code` \\\n",
    "    ORDER BY `Frequency` DESC \\\n",
    "    LIMIT 5\").show()"
   ]
  },
  {
   "cell_type": "code",
   "execution_count": 72,
   "metadata": {},
   "outputs": [
    {
     "name": "stdout",
     "output_type": "stream",
     "text": [
      "+-----------------+---------+\n",
      "|Vehicle Body Type|Frequency|\n",
      "+-----------------+---------+\n",
      "|             SUBN|  3719802|\n",
      "|             4DSD|  3082020|\n",
      "|              VAN|  1411970|\n",
      "|             DELV|   687330|\n",
      "|              SDN|   438191|\n",
      "+-----------------+---------+\n",
      "\n"
     ]
    }
   ],
   "source": [
    "# 2.1 How often does each 'vehicle body type' get a parking ticket?\n",
    "\n",
    "#Solution: Please see the table below\n",
    "spark.sql(\n",
    "    \"SELECT `Vehicle Body Type`, count(*) as `Frequency` \\\n",
    "    FROM parking_table \\\n",
    "    GROUP BY `Vehicle Body Type` \\\n",
    "    ORDER BY `Frequency` DESC \\\n",
    "    LIMIT 5\").show()"
   ]
  },
  {
   "cell_type": "code",
   "execution_count": 73,
   "metadata": {},
   "outputs": [
    {
     "name": "stdout",
     "output_type": "stream",
     "text": [
      "+------------+---------+\n",
      "|Vehicle Make|Frequency|\n",
      "+------------+---------+\n",
      "|        FORD|  1280958|\n",
      "|       TOYOT|  1211451|\n",
      "|       HONDA|  1079238|\n",
      "|       NISSA|   918590|\n",
      "|       CHEVR|   714655|\n",
      "+------------+---------+\n",
      "\n"
     ]
    }
   ],
   "source": [
    "# 2.2: How about the 'vehicle make'?\n",
    "\n",
    "#Solution: Please see the table below\n",
    "spark.sql(\n",
    "    \"SELECT `Vehicle Make`, count(*) as `Frequency` \\\n",
    "    FROM parking_table \\\n",
    "    GROUP BY `Vehicle Make` \\\n",
    "    ORDER BY `Frequency` DESC \\\n",
    "    LIMIT 5\").show()"
   ]
  },
  {
   "cell_type": "markdown",
   "metadata": {},
   "source": [
    "# Q3. A precinct is a police station that has a certain zone of the city under its command. Find the (5 highest) frequencies of tickets for each of the following:"
   ]
  },
  {
   "cell_type": "code",
   "execution_count": 74,
   "metadata": {},
   "outputs": [
    {
     "name": "stdout",
     "output_type": "stream",
     "text": [
      "+------------------+---------+\n",
      "|Violation Precinct|Frequency|\n",
      "+------------------+---------+\n",
      "|                 0|  2072400|\n",
      "|                19|   535671|\n",
      "|                14|   352450|\n",
      "|                 1|   331810|\n",
      "|                18|   306920|\n",
      "|               114|   296514|\n",
      "+------------------+---------+\n",
      "\n"
     ]
    }
   ],
   "source": [
    "# Q3.1 'Violation Precinct' (This is the precinct of the zone where the violation occurred).\n",
    "# Using this, can you draw any insights for parking violations in any specific areas of the city?\n",
    "\n",
    "#Solution: Please see the table below\n",
    "spark.sql(\n",
    "    \"SELECT `Violation Precinct`, count(*) as `Frequency` \\\n",
    "    FROM parking_table \\\n",
    "    GROUP BY `Violation Precinct` \\\n",
    "    ORDER BY `Frequency` DESC \\\n",
    "    LIMIT 6\").show()"
   ]
  },
  {
   "cell_type": "code",
   "execution_count": 75,
   "metadata": {},
   "outputs": [
    {
     "name": "stdout",
     "output_type": "stream",
     "text": [
      "+---------------+---------+\n",
      "|Issuer Precinct|Frequency|\n",
      "+---------------+---------+\n",
      "|              0|  2388479|\n",
      "|             19|   521513|\n",
      "|             14|   344977|\n",
      "|              1|   321170|\n",
      "|             18|   296553|\n",
      "|            114|   289950|\n",
      "+---------------+---------+\n",
      "\n"
     ]
    }
   ],
   "source": [
    "# Q3.2 'Issuer Precinct' (This is the precinct that issued the ticket.)\n",
    "# Here, you would have noticed that the dataframe has the'Violating Precinct' or 'Issuing Precinct' as '0'. \n",
    "# These are erroneous entries. Hence, you need to provide the records for five correct precincts. \n",
    "# (Hint: Print the top six entries after sorting.)\n",
    "\n",
    "#Solution: Please see the table below\n",
    "spark.sql(\n",
    "    \"SELECT `Issuer Precinct`, count(*) as `Frequency` \\\n",
    "    FROM parking_table \\\n",
    "    GROUP BY `Issuer Precinct` \\\n",
    "    ORDER BY `Frequency` DESC \\\n",
    "    LIMIT 6\").show()"
   ]
  },
  {
   "cell_type": "code",
   "execution_count": 76,
   "metadata": {},
   "outputs": [
    {
     "name": "stdout",
     "output_type": "stream",
     "text": [
      "Violation Code & Number of tickets with that Violation Code for the Issuer Precinct = 19\n",
      "+--------------+---------+\n",
      "|Violation Code|Frequency|\n",
      "+--------------+---------+\n",
      "|            46|    86390|\n",
      "|            37|    72437|\n",
      "|            38|    72344|\n",
      "|            14|    57563|\n",
      "|            21|    54700|\n",
      "|            16|    31353|\n",
      "|            20|    27352|\n",
      "|            40|    21513|\n",
      "|            71|    15107|\n",
      "|            19|    12896|\n",
      "+--------------+---------+\n",
      "\n",
      "Violation Code & Number of tickets with that Violation Code for the Issuer Precinct = 14\n",
      "+--------------+---------+\n",
      "|Violation Code|Frequency|\n",
      "+--------------+---------+\n",
      "|            14|    73837|\n",
      "|            69|    58026|\n",
      "|            31|    39857|\n",
      "|            47|    30540|\n",
      "|            42|    20663|\n",
      "|            46|    13435|\n",
      "|            84|    11111|\n",
      "|            19|    11062|\n",
      "|            82|     8853|\n",
      "|            17|     6160|\n",
      "+--------------+---------+\n",
      "\n",
      "Violation Code & Number of tickets with that Violation Code for the Issuer Precinct = 1\n",
      "+--------------+---------+\n",
      "|Violation Code|Frequency|\n",
      "+--------------+---------+\n",
      "|            14|    73522|\n",
      "|            16|    38937|\n",
      "|            20|    27841|\n",
      "|            46|    22534|\n",
      "|            38|    16989|\n",
      "|            17|    13811|\n",
      "|            37|    13513|\n",
      "|            69|    11165|\n",
      "|            31|    11047|\n",
      "|            19|    10487|\n",
      "+--------------+---------+\n",
      "\n"
     ]
    }
   ],
   "source": [
    "# Q4.1 Find the violation code frequencies for three precincts that have issued the most number of tickets. \n",
    "\n",
    "# From the solution of Q3, we saw that 19, 14, 1 were the top 3 precinct, we will write queries to find violation code\n",
    "# for all the 3 identified precint\n",
    "\n",
    "# Query for precinct 19\n",
    "print(\"Violation Code & Number of tickets with that Violation Code for the Issuer Precinct = 19\")\n",
    "spark.sql(\n",
    "    \"SELECT `Violation Code`, count(*) as `Frequency` \\\n",
    "    FROM parking_table \\\n",
    "    WHERE `Issuer Precinct`= 19 \\\n",
    "    GROUP BY `Violation Code` \\\n",
    "    ORDER BY `Frequency` DESC \\\n",
    "    LIMIT 10\").show()\n",
    "\n",
    "# Query for precinct 14\n",
    "print(\"Violation Code & Number of tickets with that Violation Code for the Issuer Precinct = 14\")\n",
    "spark.sql(\n",
    "    \"SELECT `Violation Code`, count(*) as `Frequency` \\\n",
    "    FROM parking_table \\\n",
    "    WHERE `Issuer Precinct`= 14 \\\n",
    "    GROUP BY `Violation Code` \\\n",
    "    ORDER BY `Frequency` DESC \\\n",
    "    LIMIT 10\").show()\n",
    "\n",
    "# Query for precinct 1\n",
    "print(\"Violation Code & Number of tickets with that Violation Code for the Issuer Precinct = 1\")\n",
    "spark.sql(\n",
    "    \"SELECT `Violation Code`, count(*) as `Frequency` \\\n",
    "    FROM parking_table \\\n",
    "    WHERE `Issuer Precinct`= 1 \\\n",
    "    GROUP BY `Violation Code` \\\n",
    "    ORDER BY `Frequency` DESC \\\n",
    "    LIMIT 10\").show()"
   ]
  },
  {
   "cell_type": "code",
   "execution_count": 77,
   "metadata": {},
   "outputs": [],
   "source": [
    "# Q4.2 Do these precinct zones have an exceptionally high frequency of certain violation codes? \n",
    "\n",
    "# Answer 4.2:\n",
    "# Frequency of the violation codes ranges from 12896 to 86390 for precinct zone = 19\n",
    "# Frequency of the violation codes ranges from  6160 to 73837 for precinct zone = 14\n",
    "# Frequency of the violation codes ranges from 10487 to 73522 for precinct zone = 1\n",
    "\n",
    "# Conclusion: From above stats it is clear that certain violation codes have higher frequency than other violation codes"
   ]
  },
  {
   "cell_type": "code",
   "execution_count": 78,
   "metadata": {},
   "outputs": [],
   "source": [
    "# Q4.3 Are these codes common across precincts? \n",
    "\n",
    "# Answer 4.3:\n",
    "# Violation codes 14 & 46 are present in the top list of all the 3 Precinct zones\n",
    "# Violation code  31 is present in precinct = 1 & 14\n",
    "# Violation code  38 is present in precinct = 1 & 19"
   ]
  },
  {
   "cell_type": "markdown",
   "metadata": {},
   "source": [
    "# Q5 Find out the properties of parking violations across different times of the day:"
   ]
  },
  {
   "cell_type": "code",
   "execution_count": 79,
   "metadata": {},
   "outputs": [
    {
     "name": "stdout",
     "output_type": "stream",
     "text": [
      "There are 0 null values in the Dataframe\n"
     ]
    }
   ],
   "source": [
    "#5.1 Find a way to deal with missing values, if any.\n",
    "# (Hint: Check for the null values using 'isNull' under the SQL. Also, to remove the null values, check the 'dropna' command in the API documentation.)\n",
    "\n",
    "na_count = parking.where(\n",
    "    col(\"Summons Number\").isNull() | \\\n",
    "    col(\"Plate Id\").isNull() | \\\n",
    "    col(\"Registration State\").isNull() | \\\n",
    "    col(\"Issue Date\").isNull() | \\\n",
    "    col(\"Violation Code\").isNull() | \\\n",
    "    col(\"Vehicle Body Type\").isNull() | \\\n",
    "    col(\"Vehicle Make\").isNull() | \\\n",
    "    col(\"Violation Precinct\").isNull() | \\\n",
    "    col(\"Issuer Precinct\").isNull() | \\\n",
    "    col(\"Violation Time\").isNull()\n",
    ").count()\n",
    "\n",
    "print(f'There are {na_count} null values in the Dataframe')\n",
    "\n",
    "# Note: In the above query, we just checked whether there were any python identifiable null values in the dataset.\n",
    "# we are yet to check if we have values like \"NULL\" \"nan/NAN\" or \"BLANK\" values in the dataset, lets check in the next query."
   ]
  },
  {
   "cell_type": "code",
   "execution_count": 80,
   "metadata": {},
   "outputs": [
    {
     "name": "stdout",
     "output_type": "stream",
     "text": [
      "+------------------------------+---------------------+\n",
      "|count(DISTINCT Violation Time)|count(Violation Time)|\n",
      "+------------------------------+---------------------+\n",
      "|                             0|                    0|\n",
      "+------------------------------+---------------------+\n",
      "\n",
      "+------------------------------+---------------------+\n",
      "|count(DISTINCT Violation Time)|count(Violation Time)|\n",
      "+------------------------------+---------------------+\n",
      "|                             0|                    0|\n",
      "+------------------------------+---------------------+\n",
      "\n",
      "+------------------------------+---------------------+\n",
      "|count(DISTINCT Violation Time)|count(Violation Time)|\n",
      "+------------------------------+---------------------+\n",
      "|                             1|                   63|\n",
      "+------------------------------+---------------------+\n",
      "\n"
     ]
    }
   ],
   "source": [
    "# From the above check we came to know there are no null values in the dataset but there might be values like\n",
    "# \"NULL\", \"NAN\" & \"BLANK\" which were not identified by python.\n",
    "# lets try to identify such records\n",
    "dropNullDF1 = parking.filter(col(\"Violation Time\").isNull())\n",
    "dropNullDF2 = parking.where(\"`Violation Time` == ''\")\n",
    "dropNullDF3 = parking.where((col(\"Violation Time\") == \"nan\") | (col(\"Violation Time\") == \"Nan\"))\n",
    "dropNullDF1.select(countDistinct(\"Violation Time\"), count(\"Violation Time\")).show()\n",
    "dropNullDF2.select(countDistinct(\"Violation Time\"), count(\"Violation Time\")).show()\n",
    "dropNullDF3.select(countDistinct(\"Violation Time\"), count(\"Violation Time\")).show()"
   ]
  },
  {
   "cell_type": "code",
   "execution_count": 81,
   "metadata": {},
   "outputs": [],
   "source": [
    "# we can see there are 63 records where Violation Time had \"nan/Nan\" values, lets drop all such records"
   ]
  },
  {
   "cell_type": "code",
   "execution_count": 82,
   "metadata": {},
   "outputs": [
    {
     "name": "stdout",
     "output_type": "stream",
     "text": [
      "+------------------------------+---------------------+\n",
      "|count(DISTINCT Violation Time)|count(Violation Time)|\n",
      "+------------------------------+---------------------+\n",
      "|                          1743|             10802965|\n",
      "+------------------------------+---------------------+\n",
      "\n"
     ]
    }
   ],
   "source": [
    "# filter the dataset, ignore records where violation time have nan/Nan values\n",
    "parking = parking.filter((col(\"Violation Time\") != \"nan\") & (col(\"Violation Time\") != \"Nan\"))\n",
    "\n",
    "# lets see how many distinct and total violation times values we have\n",
    "parking.select(countDistinct(\"Violation Time\"), count(\"Violation Time\")).show()\n",
    "\n",
    "# re-register the dataframe to the table\n",
    "parking.createOrReplaceTempView(\"parking_table\")"
   ]
  },
  {
   "cell_type": "code",
   "execution_count": 83,
   "metadata": {},
   "outputs": [
    {
     "name": "stdout",
     "output_type": "stream",
     "text": [
      "+--------------+--------+\n",
      "|Violation Time|criteria|\n",
      "+--------------+--------+\n",
      "|         3429P|   false|\n",
      "|         2203P|   false|\n",
      "|         5028P|   false|\n",
      "|         115+A|   false|\n",
      "|         3025P|   false|\n",
      "|         7215P|   false|\n",
      "|         5620P|   false|\n",
      "|         7630P|   false|\n",
      "|         4317P|   false|\n",
      "|         2359P|   false|\n",
      "|         5825P|   false|\n",
      "|         8450P|   false|\n",
      "|         8424P|   false|\n",
      "|         09.5A|   false|\n",
      "|         5857P|   false|\n",
      "|         5616P|   false|\n",
      "|         2908P|   false|\n",
      "|         6815P|   false|\n",
      "|         7311P|   false|\n",
      "|         5936P|   false|\n",
      "+--------------+--------+\n",
      "only showing top 20 rows\n",
      "\n",
      "root\n",
      " |-- Summons Number: long (nullable = true)\n",
      " |-- Plate ID: string (nullable = true)\n",
      " |-- Registration State: string (nullable = true)\n",
      " |-- Issue Date: timestamp (nullable = true)\n",
      " |-- Violation Code: integer (nullable = true)\n",
      " |-- Vehicle Body Type: string (nullable = true)\n",
      " |-- Vehicle Make: string (nullable = true)\n",
      " |-- Violation Precinct: integer (nullable = true)\n",
      " |-- Issuer Precinct: integer (nullable = true)\n",
      " |-- Violation Time: string (nullable = true)\n",
      " |-- Violation Time Clean: string (nullable = true)\n",
      " |-- Violation Time Formatted: string (nullable = true)\n",
      "\n"
     ]
    }
   ],
   "source": [
    "# Q5.2 The Violation Time field is specified in a strange format. \n",
    "# Find a way to make this a time attribute that you can use to divide into groups.\n",
    "\n",
    "# Lets find out all the count of records where Violation Time has invalid format\n",
    "parking.select(\"Violation Time\", col(\"Violation Time\").rlike(\"^[01][0-9]{3}[AP]$\").alias(\"criteria\")).where(col(\"criteria\")==\"false\").show()\n",
    "parking.select(\"Violation Time\", col(\"Violation Time\").rlike(\"^[01][0-9]{3}[AP]$\").alias(\"criteria\")).where(col(\"criteria\")==\"false\").count()\n",
    "\n",
    "# lets impute proper values in the above records\n",
    "parking = parking.withColumn('Violation Time', regexp_replace('Violation Time', '^.*[^0-9AP].*$', '0000A'))\n",
    "parking = parking.withColumn('Violation Time', regexp_replace('Violation Time', '^.*[^AP]$', '0000A'))\n",
    "parking = parking.withColumn('Violation Time', regexp_replace('Violation Time', '^[^01].*$', '0000A'))\n",
    "parking = parking.withColumn('Violation Time', regexp_replace('Violation Time', '^[0-9AP]{1,4}$', '0000A'))\n",
    "\n",
    "# lets convert Violation time to 24 Hours Format for easy binning\n",
    "# Also handling many kinds of faulty entries like 13:00 AM or 13:00 PM // since given time must be in 12 hour format\n",
    "maketime_udf_str_1 = udf(lambda x: x[0:2]+':'+x[2:4]+':00' if x[-1]==\"A\" or int(x[0:2]) in range(13,25) else str(int(x[0:2])+12)+':'+x[2:4]+':00', StringType())\n",
    "\n",
    "# Make hour 24 as 00 for later conversion\n",
    "maketime_udf_str_2 = udf(lambda x: '00'+x[2:] if x[0:2]==\"24\" else x, StringType())\n",
    "parking = parking.withColumn('Violation Time Clean', maketime_udf_str_1('Violation Time'))\n",
    "parking = parking.withColumn('Violation Time Clean', maketime_udf_str_2('Violation Time Clean'))\n",
    "parking = parking.withColumn('Violation Time Formatted', date_format('Violation Time Clean', 'H:m:s'))\n",
    "\n",
    "parking.printSchema()"
   ]
  },
  {
   "cell_type": "code",
   "execution_count": 84,
   "metadata": {},
   "outputs": [
    {
     "name": "stdout",
     "output_type": "stream",
     "text": [
      "+--------------+--------------------+------------------------+\n",
      "|Violation Time|Violation Time Clean|Violation Time Formatted|\n",
      "+--------------+--------------------+------------------------+\n",
      "|         0100A|            01:00:00|                   1:0:0|\n",
      "|         0100P|            13:00:00|                  13:0:0|\n",
      "|         0100P|            13:00:00|                  13:0:0|\n",
      "|         0100P|            13:00:00|                  13:0:0|\n",
      "|         0101P|            13:01:00|                  13:1:0|\n",
      "+--------------+--------------------+------------------------+\n",
      "only showing top 5 rows\n",
      "\n"
     ]
    }
   ],
   "source": [
    "# Lets Register the cleaned Dataset\n",
    "parking.createOrReplaceTempView(\"parking_table\")\n",
    "\n",
    "# lets check how does the new violation time looks like\n",
    "spark.sql('SELECT `Violation Time`, `Violation Time Clean`, `Violation Time Formatted` FROM parking_table').show(5)"
   ]
  },
  {
   "cell_type": "code",
   "execution_count": 85,
   "metadata": {},
   "outputs": [],
   "source": [
    "# Q5.3 Divide 24 hours into six equal discrete bins of time. Choose the intervals as you see fit. \n",
    "\n",
    "result = spark.sql(\n",
    "    'SELECT `Violation Code`, count(*) as `Frequency`, \\\n",
    "    CASE \\\n",
    "    WHEN HOUR(`Violation Time Formatted`) IN (\"0\",\"1\",\"2\",\"3\") THEN \"00:00 - 03:59\" \\\n",
    "    WHEN HOUR(`Violation Time Formatted`) IN (\"4\",\"5\",\"6\",\"7\") THEN \"04:00 - 07:59\" \\\n",
    "    WHEN HOUR(`Violation Time Formatted`) IN (\"8\",\"9\",\"10\",\"11\") THEN \"08:00 - 11:59\" \\\n",
    "    WHEN HOUR(`Violation Time Formatted`) IN (\"12\",\"13\",\"14\",\"15\") THEN \"12:00 - 15:59\" \\\n",
    "    WHEN HOUR(`Violation Time Formatted`) IN (\"16\",\"17\",\"18\",\"19\") THEN \"16:00 - 19:59\" \\\n",
    "    WHEN HOUR(`Violation Time Formatted`) IN (\"20\",\"21\",\"22\",\"23\") THEN \"20:00 - 23:59\" \\\n",
    "    END AS `Violation Time Bin` \\\n",
    "    FROM parking_table \\\n",
    "    GROUP BY `Violation Time Bin`,`Violation Code`')\n",
    "\n",
    "# Register the result dataset as a separate SQL view for further Analysis\n",
    "result.createOrReplaceTempView(\"parking_table_temp\")"
   ]
  },
  {
   "cell_type": "code",
   "execution_count": 86,
   "metadata": {},
   "outputs": [
    {
     "name": "stdout",
     "output_type": "stream",
     "text": [
      "Violation Time Bin=\"00:00 - 03:59\"\n",
      "+--------------+---------+\n",
      "|Violation Code|Frequency|\n",
      "+--------------+---------+\n",
      "|            21|   216890|\n",
      "|            36|   211434|\n",
      "|            38|   106871|\n",
      "+--------------+---------+\n",
      "\n",
      "Violation Time Bin=\"04:00 - 07:59\"\n",
      "+--------------+---------+\n",
      "|Violation Code|Frequency|\n",
      "+--------------+---------+\n",
      "|            14|   141275|\n",
      "|            21|   119466|\n",
      "|            40|   112186|\n",
      "+--------------+---------+\n",
      "\n",
      "Violation Time Bin=\"08:00 - 11:59\"\n",
      "+--------------+---------+\n",
      "|Violation Code|Frequency|\n",
      "+--------------+---------+\n",
      "|            21|  1182676|\n",
      "|            36|   751422|\n",
      "|            38|   346518|\n",
      "+--------------+---------+\n",
      "\n",
      "Violation Time Bin=\"12:00 - 15:59\"\n",
      "+--------------+---------+\n",
      "|Violation Code|Frequency|\n",
      "+--------------+---------+\n",
      "|            36|   376961|\n",
      "|            38|   356354|\n",
      "|            37|   265869|\n",
      "+--------------+---------+\n",
      "\n",
      "Violation Time Bin=\"16:00 - 19:59\"\n",
      "+--------------+---------+\n",
      "|Violation Code|Frequency|\n",
      "+--------------+---------+\n",
      "|            38|   203232|\n",
      "|            37|   145784|\n",
      "|            14|   144748|\n",
      "+--------------+---------+\n",
      "\n",
      "Violation Time Bin=\"20:00 - 23:59\"\n",
      "+--------------+---------+\n",
      "|Violation Code|Frequency|\n",
      "+--------------+---------+\n",
      "|             7|    65593|\n",
      "|            38|    47029|\n",
      "|            14|    44778|\n",
      "+--------------+---------+\n",
      "\n"
     ]
    }
   ],
   "source": [
    "# Q5.3 # For each of these groups, find the three most commonly occurring violations.\n",
    "\n",
    "print('Violation Time Bin=\"00:00 - 03:59\"')\n",
    "spark.sql(\n",
    "    'SELECT `Violation Code`,  `Frequency`\\\n",
    "    FROM parking_table_temp \\\n",
    "    WHERE `Violation Time Bin` =\"00:00 - 03:59\" \\\n",
    "    ORDER BY `Frequency` DESC \\\n",
    "    LIMIT 3').show()\n",
    "\n",
    "print('Violation Time Bin=\"04:00 - 07:59\"')\n",
    "spark.sql(\n",
    "    'SELECT `Violation Code`,  `Frequency`\\\n",
    "    FROM parking_table_temp \\\n",
    "    WHERE `Violation Time Bin` =\"04:00 - 07:59\" \\\n",
    "    ORDER BY `Frequency` DESC \\\n",
    "    LIMIT 3').show()\n",
    "\n",
    "print('Violation Time Bin=\"08:00 - 11:59\"')\n",
    "spark.sql(\n",
    "    'SELECT `Violation Code`,  `Frequency`\\\n",
    "    FROM parking_table_temp \\\n",
    "    WHERE `Violation Time Bin` =\"08:00 - 11:59\" \\\n",
    "    ORDER BY `Frequency` DESC \\\n",
    "    LIMIT 3').show()\n",
    "\n",
    "print('Violation Time Bin=\"12:00 - 15:59\"')\n",
    "spark.sql(\n",
    "    'SELECT `Violation Code`,  `Frequency`\\\n",
    "    FROM parking_table_temp \\\n",
    "    WHERE `Violation Time Bin` =\"12:00 - 15:59\" \\\n",
    "    ORDER BY `Frequency` DESC \\\n",
    "    LIMIT 3').show()\n",
    "\n",
    "print('Violation Time Bin=\"16:00 - 19:59\"')\n",
    "spark.sql(\n",
    "    'SELECT `Violation Code`,  `Frequency`\\\n",
    "    FROM parking_table_temp \\\n",
    "    WHERE `Violation Time Bin` = \"16:00 - 19:59\" \\\n",
    "    ORDER BY `Frequency` DESC \\\n",
    "    LIMIT 3').show()\n",
    "\n",
    "print('Violation Time Bin=\"20:00 - 23:59\"')\n",
    "spark.sql(\n",
    "    'SELECT `Violation Code`,  `Frequency`\\\n",
    "    FROM parking_table_temp \\\n",
    "    WHERE `Violation Time Bin` = \"20:00 - 23:59\" \\\n",
    "    ORDER BY `Frequency` DESC \\\n",
    "    LIMIT 3').show()"
   ]
  },
  {
   "cell_type": "code",
   "execution_count": 87,
   "metadata": {},
   "outputs": [
    {
     "name": "stdout",
     "output_type": "stream",
     "text": [
      "Violation Code=38\n",
      "+------------------+---------+\n",
      "|Violation Time Bin|Frequency|\n",
      "+------------------+---------+\n",
      "|     12:00 - 15:59|   356354|\n",
      "+------------------+---------+\n",
      "\n",
      "Violation Code=21\n",
      "+------------------+---------+\n",
      "|Violation Time Bin|Frequency|\n",
      "+------------------+---------+\n",
      "|     08:00 - 11:59|  1182676|\n",
      "+------------------+---------+\n",
      "\n",
      "Violation Code=36\n",
      "+------------------+---------+\n",
      "|Violation Time Bin|Frequency|\n",
      "+------------------+---------+\n",
      "|     08:00 - 11:59|   751422|\n",
      "+------------------+---------+\n",
      "\n"
     ]
    }
   ],
   "source": [
    "# Q5.4 Now, try another direction. For the three most commonly occurring violation codes, \n",
    "# find the most common time of the day (in terms of the bins from the previous part).\n",
    "\n",
    "# Solution: 3 most commonly violation codes were 38, 21 and 36, below are the queries to find out Bin they belongs to\n",
    "\n",
    "print('Violation Code=38')\n",
    "spark.sql(\n",
    "    'SELECT `Violation Time Bin`,  `Frequency`\\\n",
    "    FROM parking_table_temp \\\n",
    "    WHERE `Violation Code` = 38 \\\n",
    "    ORDER BY `Frequency` DESC \\\n",
    "    LIMIT 1').show()\n",
    "\n",
    "print('Violation Code=21')\n",
    "spark.sql(\n",
    "    'SELECT `Violation Time Bin`,  `Frequency`\\\n",
    "    FROM parking_table_temp \\\n",
    "    WHERE `Violation Code` = 21 \\\n",
    "    ORDER BY `Frequency` DESC \\\n",
    "    LIMIT 1').show()\n",
    "\n",
    "print('Violation Code=36')\n",
    "spark.sql(\n",
    "    'SELECT `Violation Time Bin`,  `Frequency`\\\n",
    "    FROM parking_table_temp \\\n",
    "    WHERE `Violation Code` = 36 \\\n",
    "    ORDER BY `Frequency` DESC \\\n",
    "    LIMIT 1').show()"
   ]
  },
  {
   "cell_type": "markdown",
   "metadata": {},
   "source": [
    "# Q6.Let’s try and find some seasonality in this data"
   ]
  },
  {
   "cell_type": "code",
   "execution_count": 88,
   "metadata": {},
   "outputs": [],
   "source": [
    "# Q6.1 First, divide the year into a certain number of seasons, and find the frequencies of tickets for each season. \n",
    "# (Hint: Use Issue Date to segregate into seasons.)\n",
    "\n",
    "# we will createa new dataset called result and will register it as a table in spark to analyse further\n",
    "# we will break the months into seasons as follows:\n",
    "# Dec/Jan/Feb = Winter\n",
    "# Mar/Apr/May = Spring\n",
    "# Jun/Jul/Aug = Summer\n",
    "# Sep/Oct/Nov = Fall\n",
    "\n",
    "result = spark.sql(\n",
    "    'SELECT `Violation Code`, count(*) as `Frequency`, \\\n",
    "    CASE \\\n",
    "    WHEN MONTH(`Issue Date`) IN (\"12\",\"1\",\"2\") THEN \"Winter\" \\\n",
    "    WHEN MONTH(`Issue Date`) IN (\"3\",\"4\",\"5\") THEN \"Spring\" \\\n",
    "    WHEN MONTH(`Issue Date`) IN (\"6\",\"7\",\"8\") THEN \"Summer\" \\\n",
    "    WHEN MONTH(`Issue Date`) IN (\"9\",\"10\",\"11\") THEN \"Fall\" \\\n",
    "    END AS `season` \\\n",
    "    FROM parking_table \\\n",
    "    GROUP BY `season`,`Violation Code`')\n",
    "\n",
    "# Register the result dataset as a separate SQL view for further Analysis\n",
    "result.createOrReplaceTempView(\"parking_table_temp\")"
   ]
  },
  {
   "cell_type": "code",
   "execution_count": 89,
   "metadata": {},
   "outputs": [
    {
     "name": "stdout",
     "output_type": "stream",
     "text": [
      "season=\"Winter\"\n",
      "+--------------+---------+\n",
      "|Violation Code|Frequency|\n",
      "+--------------+---------+\n",
      "|            21|   362341|\n",
      "|            36|   359338|\n",
      "|            38|   259723|\n",
      "+--------------+---------+\n",
      "\n",
      "season=\"Spring\"\n",
      "+--------------+---------+\n",
      "|Violation Code|Frequency|\n",
      "+--------------+---------+\n",
      "|            21|   402807|\n",
      "|            36|   344834|\n",
      "|            38|   271192|\n",
      "+--------------+---------+\n",
      "\n",
      "season=\"Summer\"\n",
      "+--------------+---------+\n",
      "|Violation Code|Frequency|\n",
      "+--------------+---------+\n",
      "|            21|   405961|\n",
      "|            38|   247561|\n",
      "|            36|   240396|\n",
      "+--------------+---------+\n",
      "\n",
      "season=\"Fall\"\n",
      "+--------------+---------+\n",
      "|Violation Code|Frequency|\n",
      "+--------------+---------+\n",
      "|            36|   456046|\n",
      "|            21|   357479|\n",
      "|            38|   283828|\n",
      "+--------------+---------+\n",
      "\n"
     ]
    }
   ],
   "source": [
    "# Q6.2 Then, find the three most common violations for each of these seasons.\n",
    "\n",
    "# Solution: \n",
    "\n",
    "# Frequency of violation codes for winter\n",
    "print('season=\"Winter\"')\n",
    "spark.sql(\n",
    "    'SELECT `Violation Code`,  `Frequency`\\\n",
    "    FROM parking_table_temp \\\n",
    "    WHERE season=\"Winter\" \\\n",
    "    ORDER BY `Frequency` DESC \\\n",
    "    LIMIT 3').show()\n",
    "\n",
    "\n",
    "# Frequency of violation codes for Spring\n",
    "print('season=\"Spring\"')\n",
    "spark.sql(\n",
    "    'SELECT `Violation Code`,  `Frequency`\\\n",
    "    FROM parking_table_temp \\\n",
    "    WHERE season=\"Spring\" \\\n",
    "    ORDER BY `Frequency` DESC \\\n",
    "    LIMIT 3').show()\n",
    "\n",
    "# Frequency of violation codes for Summer\n",
    "print('season=\"Summer\"')\n",
    "spark.sql(\n",
    "    'SELECT `Violation Code`,  `Frequency`\\\n",
    "    FROM parking_table_temp \\\n",
    "    WHERE season=\"Summer\" \\\n",
    "    ORDER BY `Frequency` DESC \\\n",
    "    LIMIT 3').show()\n",
    "\n",
    "\n",
    "# Frequency of violation codes for Fall\n",
    "print('season=\"Fall\"')\n",
    "spark.sql(\n",
    "    'SELECT `Violation Code`,  `Frequency`\\\n",
    "    FROM parking_table_temp \\\n",
    "    WHERE season=\"Fall\" \\\n",
    "    ORDER BY `Frequency` DESC \\\n",
    "    LIMIT 3').show()"
   ]
  },
  {
   "cell_type": "markdown",
   "metadata": {},
   "source": [
    "# Q7. The fines collected from all the instances of parking violation constitute a source of revenue for the NYC Police Department."
   ]
  },
  {
   "cell_type": "code",
   "execution_count": 90,
   "metadata": {},
   "outputs": [
    {
     "name": "stdout",
     "output_type": "stream",
     "text": [
      "+--------------+---------+\n",
      "|Violation Code|Frequency|\n",
      "+--------------+---------+\n",
      "|            21|  1528588|\n",
      "|            36|  1400614|\n",
      "|            38|  1062304|\n",
      "+--------------+---------+\n",
      "\n"
     ]
    }
   ],
   "source": [
    "#Q7.1 Find the total occurrences of the three most common violation codes.\n",
    "\n",
    "#Solution:\n",
    "top3vc = spark.sql(\"select `Violation Code`, count(*) as Frequency\\\n",
    "         from parking_table group by `Violation Code` order by Frequency desc limit 3\")\n",
    "top3vc.show()\n",
    "\n",
    "# Answer: top 3 violation codes are 21,36 and 38\n",
    "\n",
    "# register DataFrame as temp table, we will use this table for the rest of our analysis\n",
    "top3vc.createOrReplaceTempView(\"violation_codes_table\") "
   ]
  },
  {
   "cell_type": "code",
   "execution_count": 91,
   "metadata": {},
   "outputs": [
    {
     "name": "stdout",
     "output_type": "stream",
     "text": [
      "+--------------+---------+---------------------+-----------------+\n",
      "|Violation Code|Frequency|High_Density_Loc_Fine|Rest_of_City_Fine|\n",
      "+--------------+---------+---------------------+-----------------+\n",
      "|            21|  1528588|                   65|               45|\n",
      "|            36|  1400614|                   50|               50|\n",
      "|            38|  1062304|                   65|               35|\n",
      "+--------------+---------+---------------------+-----------------+\n",
      "\n",
      "+--------------+---------+---------------------+-----------------+------------+\n",
      "|Violation Code|Frequency|High_Density_Loc_Fine|Rest_of_City_Fine|Average Fine|\n",
      "+--------------+---------+---------------------+-----------------+------------+\n",
      "|            21|  1528588|                   65|               45|          55|\n",
      "|            36|  1400614|                   50|               50|          50|\n",
      "|            38|  1062304|                   65|               35|          50|\n",
      "+--------------+---------+---------------------+-----------------+------------+\n",
      "\n"
     ]
    }
   ],
   "source": [
    "# Q7.2 Then, visit the website: http://www1.nyc.gov/site/finance/vehicles/services-violation-codes.page\n",
    "# It lists the fines associated with different violation codes. \n",
    "# They’re divided into two categories: one for the highest-density locations in the city and the other for the rest of the city. \n",
    "\n",
    "# from the website mentioned above, fine for violation codes are as given below:\n",
    "# Violation-Code  Density   Fine     \n",
    "#      21          High      65 \n",
    "#      36          High      50 \n",
    "#      38          High      65 \n",
    "#      21          Low       45 \n",
    "#      36          Low       50 \n",
    "#      38          Low       35\n",
    "\n",
    "# lets create two columns named \"High_Density_Loc_Fine\" for high density areas & \"Rest_of_City_Fine\" for other parts of the city\n",
    "top3vc = spark.sql(\"SELECT *, \\\n",
    "                                CASE WHEN `Violation Code` == 21 \\\n",
    "                                THEN  65 \\\n",
    "                                WHEN `Violation Code` == 36 \\\n",
    "                                THEN 50 \\\n",
    "                                ELSE 65 \\\n",
    "                                END AS `High_Density_Loc_Fine`, \\\n",
    "                                CASE WHEN `Violation Code` == 21 \\\n",
    "                                THEN  45 \\\n",
    "                                WHEN `Violation Code` == 36 \\\n",
    "                                THEN 50 \\\n",
    "                                ELSE 35 \\\n",
    "                                END AS `Rest_of_City_Fine` \\\n",
    "                                FROM violation_codes_table\")\n",
    "top3vc.show(5)           \n",
    "\n",
    "# update the SQL view to record the changes done to the dataframe\n",
    "top3vc.createOrReplaceTempView(\"violation_codes_table\")\n",
    "\n",
    "#For the sake of simplicity, take the average of the two.\n",
    "top3vc = spark.sql(\"SELECT *, \\\n",
    "                                 cast((`High_Density_Loc_Fine` + `Rest_of_City_Fine`)/2 as int) AS `Average Fine` \\\n",
    "                                FROM violation_codes_table\")\n",
    "top3vc.show(5)      \n",
    "\n",
    "# update the SQL view to record the changes done to the dataframe\n",
    "top3vc.createOrReplaceTempView(\"violation_codes_table\")"
   ]
  },
  {
   "cell_type": "code",
   "execution_count": 92,
   "metadata": {},
   "outputs": [
    {
     "name": "stdout",
     "output_type": "stream",
     "text": [
      "+--------------+---------+---------------------+-----------------+------------+----------+\n",
      "|Violation Code|Frequency|High_Density_Loc_Fine|Rest_of_City_Fine|Average Fine|Total Fine|\n",
      "+--------------+---------+---------------------+-----------------+------------+----------+\n",
      "|            21|  1528588|                   65|               45|          55|  84072340|\n",
      "|            36|  1400614|                   50|               50|          50|  70030700|\n",
      "|            38|  1062304|                   65|               35|          50|  53115200|\n",
      "+--------------+---------+---------------------+-----------------+------------+----------+\n",
      "\n"
     ]
    }
   ],
   "source": [
    "# Q7.3.1 Using this information, find the total amount collected for the three violation codes with the maximum tickets. \n",
    "spark.sql(\"SELECT *, `Average Fine` * Frequency as `Total Fine` FROM violation_codes_table\").show()\n",
    "\n",
    "#Q7.3.2 State the code that has the highest total collection.\n",
    "# Answer: Violation code 21 has the highest collection"
   ]
  },
  {
   "cell_type": "code",
   "execution_count": 93,
   "metadata": {},
   "outputs": [],
   "source": [
    "# Q7.4 We can intuitively infer the following from these findings:\n",
    "\n",
    "# Answer:\n",
    "# 1. Violation Code = 21 means No parking where parking is not allowed by sign, street marking or traffic control device.\n",
    "# 2. Violation Code = 36 means Parking in a meter space for the purpose of displaying, selling, storing, or offering goods \n",
    "#    for sale.\n",
    "#    Getting highest collection from code 21 & 36 means people are either ignoring the sign boards/meter spaces\n",
    "#    or they are parking thier cars these areas because they could not find parking anywhere else."
   ]
  },
  {
   "cell_type": "code",
   "execution_count": 94,
   "metadata": {},
   "outputs": [],
   "source": [
    "# Closing the Spark session\n",
    "spark.stop()"
   ]
  },
  {
   "cell_type": "code",
   "execution_count": null,
   "metadata": {},
   "outputs": [],
   "source": []
  }
 ],
 "metadata": {
  "kernelspec": {
   "display_name": "PySpark",
   "language": "python",
   "name": "pyspark"
  }
 },
 "nbformat": 4,
 "nbformat_minor": 2
}
